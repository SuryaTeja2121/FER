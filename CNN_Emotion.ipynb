{
 "cells": [
  {
   "cell_type": "code",
   "execution_count": 1,
   "metadata": {
    "colab": {},
    "colab_type": "code",
    "id": "eeRyej25Eo0p"
   },
   "outputs": [],
   "source": [
    "import numpy as np\n",
    "from tensorflow.keras.utils import to_categorical\n",
    "\n",
    "import glob\n",
    "import cv2 \n",
    "import math\n",
    "\n",
    "from scipy.linalg import svd\n",
    "from numpy import linalg as LA\n",
    "\n",
    "import pandas as pd\n",
    "import numpy as np\n",
    "import matplotlib.pyplot as plt\n",
    "\n",
    "from sklearn.model_selection import train_test_split\n",
    "\n",
    "import os\n",
    "\n",
    "%matplotlib inline"
   ]
  },
  {
   "cell_type": "code",
   "execution_count": 2,
   "metadata": {
    "colab": {
     "base_uri": "https://localhost:8080/",
     "height": 34
    },
    "colab_type": "code",
    "id": "5ZudJjrREo-o",
    "outputId": "74766ba1-2a64-4124-badd-ef580c8e8a13"
   },
   "outputs": [],
   "source": [
    "# Rading dataset\n",
    "X = []\n",
    "    \n",
    "for folder in os.listdir('Emotion Dataset/'):\n",
    "    \n",
    "    for img in os.listdir('Emotion Dataset/' + str(folder)):\n",
    "        \n",
    "        n = cv2.imread('Emotion Dataset/' + str(folder) + '/' + str(img))\n",
    "        gray = cv2.cvtColor(n,cv2.COLOR_BGR2GRAY)\n",
    "        X.append(gray)"
   ]
  },
  {
   "cell_type": "code",
   "execution_count": 3,
   "metadata": {},
   "outputs": [
    {
     "name": "stdout",
     "output_type": "stream",
     "text": [
      "5350\n"
     ]
    }
   ],
   "source": [
    "# Convert List dataset into array\n",
    "X = np.array(X)\n",
    "print(len(X))"
   ]
  },
  {
   "cell_type": "code",
   "execution_count": 4,
   "metadata": {},
   "outputs": [],
   "source": [
    "# ExpressionArray = [\"Anger\",\"Disgust\",\"Fear\",\"Happy\",\"Neutral\",\"Surprise\",\"Sad\"]\n",
    "\n",
    "Y = np.zeros((len(X)))\n",
    "\n",
    "i = 0\n",
    "\n",
    "for folder in os.listdir('Emotion Dataset/'):\n",
    "    \n",
    "    for img in os.listdir('Emotion Dataset/' + str(folder)):\n",
    "    \n",
    "        if folder == \"Anger\": \n",
    "            Y[i]  = 0\n",
    "        elif folder == \"Disgust\":\n",
    "            Y[i]  = 1\n",
    "        elif folder == \"Fear\":\n",
    "            Y[i]  = 2\n",
    "        elif folder == \"Happy\":\n",
    "            Y[i]  = 3\n",
    "        elif folder == \"Neutral\":\n",
    "            Y[i]  = 4\n",
    "        elif folder == \"Sad\":\n",
    "            Y[i]  = 5\n",
    "        elif folder == \"Surprise\":\n",
    "            Y[i]  = 6\n",
    "        \n",
    "        i = i + 1\n"
   ]
  },
  {
   "cell_type": "code",
   "execution_count": 5,
   "metadata": {},
   "outputs": [
    {
     "data": {
      "text/plain": [
       "(5350, 5350)"
      ]
     },
     "execution_count": 5,
     "metadata": {},
     "output_type": "execute_result"
    }
   ],
   "source": [
    "len(X),len(Y)"
   ]
  },
  {
   "cell_type": "code",
   "execution_count": 6,
   "metadata": {},
   "outputs": [
    {
     "data": {
      "text/plain": [
       "array([0., 0., 0., ..., 6., 6., 6.])"
      ]
     },
     "execution_count": 6,
     "metadata": {},
     "output_type": "execute_result"
    }
   ],
   "source": [
    "Y"
   ]
  },
  {
   "cell_type": "code",
   "execution_count": 7,
   "metadata": {},
   "outputs": [],
   "source": [
    "\n",
    "# Reading Annotation file of Emotion\n",
    "# Emotion = pd.read_csv('D:/ML Dataset/Annotations/Train_Expression.txt', sep=\" \", header=None)\n",
    "# Emotion.columns = [\"filename\", \"Emotion\"]\n"
   ]
  },
  {
   "cell_type": "code",
   "execution_count": 8,
   "metadata": {},
   "outputs": [],
   "source": [
    "dim = np.array([224, 224])"
   ]
  },
  {
   "cell_type": "code",
   "execution_count": 9,
   "metadata": {},
   "outputs": [],
   "source": [
    "Y_one_hot = to_categorical(Y)"
   ]
  },
  {
   "cell_type": "code",
   "execution_count": 10,
   "metadata": {},
   "outputs": [
    {
     "data": {
      "text/plain": [
       "(array([[1., 0., 0., ..., 0., 0., 0.],\n",
       "        [1., 0., 0., ..., 0., 0., 0.],\n",
       "        [1., 0., 0., ..., 0., 0., 0.],\n",
       "        ...,\n",
       "        [0., 0., 0., ..., 0., 0., 1.],\n",
       "        [0., 0., 0., ..., 0., 0., 1.],\n",
       "        [0., 0., 0., ..., 0., 0., 1.]], dtype=float32),\n",
       " array([0., 0., 0., ..., 6., 6., 6.]))"
      ]
     },
     "execution_count": 10,
     "metadata": {},
     "output_type": "execute_result"
    }
   ],
   "source": [
    "Y_one_hot,Y"
   ]
  },
  {
   "cell_type": "code",
   "execution_count": 11,
   "metadata": {},
   "outputs": [
    {
     "data": {
      "text/plain": [
       "(5350, 224, 224, 1)"
      ]
     },
     "execution_count": 11,
     "metadata": {},
     "output_type": "execute_result"
    }
   ],
   "source": [
    "X = X.astype('float32')\n",
    "X = X / 255\n",
    "\n",
    "X = X.reshape(-1,dim[0],dim[1], 1)\n",
    "X.shape"
   ]
  },
  {
   "cell_type": "code",
   "execution_count": 12,
   "metadata": {},
   "outputs": [
    {
     "data": {
      "text/plain": [
       "((4815, 224, 224, 1), (535, 224, 224, 1), (4815, 7), (535, 7))"
      ]
     },
     "execution_count": 12,
     "metadata": {},
     "output_type": "execute_result"
    }
   ],
   "source": [
    "from sklearn.model_selection import train_test_split\n",
    "train_X,test_X,train_Y,test_Y = train_test_split(X, Y_one_hot, test_size = 0.1, random_state = 13)\n",
    "train_X.shape,test_X.shape,train_Y.shape,test_Y.shape"
   ]
  },
  {
   "cell_type": "code",
   "execution_count": 13,
   "metadata": {},
   "outputs": [
    {
     "data": {
      "text/plain": [
       "((3852, 224, 224, 1), (963, 224, 224, 1), (3852, 7), (963, 7))"
      ]
     },
     "execution_count": 13,
     "metadata": {},
     "output_type": "execute_result"
    }
   ],
   "source": [
    "train_X,valid_X,train_Y,valid_Y = train_test_split(train_X, train_Y, test_size = 0.2, random_state=13)\n",
    "train_X.shape,valid_X.shape,train_Y.shape,valid_Y.shape"
   ]
  },
  {
   "cell_type": "code",
   "execution_count": 14,
   "metadata": {},
   "outputs": [],
   "source": [
    "\n",
    "# data = pd.read_csv('D:/ML Dataset/Annotations/Train_Roll_Number.txt', sep=\" \", header=None)\n",
    "# data1 = pd.read_csv('D:/ML Dataset/Annotations/Train_RGB_Sketch.txt', sep=\" \", header=None)\n",
    "# data2 = pd.read_csv('D:/ML Dataset/Annotations/Train_Gender.txt', sep=\" \", header=None)\n",
    "# data3 = pd.read_csv('D:/ML Dataset/Annotations/Train_Expression.txt', sep=\" \", header=None)\n"
   ]
  },
  {
   "cell_type": "code",
   "execution_count": 15,
   "metadata": {},
   "outputs": [],
   "source": [
    "\n",
    "# data.columns = [\"filename\", \"subject\"]\n",
    "# data1.columns = [\"filename\", \"sketch\"]\n",
    "# data2.columns = [\"filename\", \"gender\"]\n",
    "# data3.columns = [\"filename\", \"expression\"]\n"
   ]
  },
  {
   "cell_type": "code",
   "execution_count": null,
   "metadata": {},
   "outputs": [],
   "source": []
  },
  {
   "cell_type": "markdown",
   "metadata": {
    "colab_type": "text",
    "id": "NXzQRfYkz3-m"
   },
   "source": [
    "# **Model the Data**"
   ]
  },
  {
   "cell_type": "code",
   "execution_count": 16,
   "metadata": {
    "colab": {},
    "colab_type": "code",
    "id": "9hTXDZ8nGR7j"
   },
   "outputs": [],
   "source": [
    "import keras\n",
    "from keras.models import Sequential,Input,Model\n",
    "from keras.layers import Dense, Dropout, Flatten\n",
    "from keras.layers import Conv2D, MaxPooling2D\n",
    "from keras.layers import BatchNormalization\n",
    "from keras.layers.advanced_activations import LeakyReLU"
   ]
  },
  {
   "cell_type": "code",
   "execution_count": 17,
   "metadata": {},
   "outputs": [],
   "source": [
    "batch_size = 100\n",
    "epochs = 60"
   ]
  },
  {
   "cell_type": "code",
   "execution_count": 20,
   "metadata": {},
   "outputs": [],
   "source": [
    "model = Sequential()\n",
    "model.add(Conv2D(32, kernel_size=(3, 3),activation='linear',padding='valid',input_shape=(dim[0],dim[1],1)))\n",
    "model.add(MaxPooling2D((2, 2),padding='valid'))\n",
    "model.add(Dropout(0.25))\n",
    "\n",
    "model.add(Conv2D(64, (3, 3), activation='linear',padding='valid'))\n",
    "model.add(MaxPooling2D(pool_size=(2, 2),padding='valid'))\n",
    "model.add(Dropout(0.25))\n",
    "\n",
    "model.add(Conv2D(128, (3, 3), activation='linear',padding='valid'))\n",
    "model.add(MaxPooling2D(pool_size=(2, 2),padding='valid'))\n",
    "model.add(Dropout(0.4))\n",
    "\n",
    "model.add(Flatten())\n",
    "model.add(Dense(2048, activation='linear'))\n",
    "model.add(Dropout(0.3))\n",
    "\n",
    "model.add(Dense(1000, activation='linear'))\n",
    "model.add(Dropout(0.3))\n",
    "\n",
    "model.add(Dense(250, activation='linear'))\n",
    "model.add(Dropout(0.3))\n",
    "\n",
    "model.add(Dense(80, activation='linear'))          \n",
    "model.add(Dropout(0.3))\n",
    "\n",
    "model.add(Dense(15, activation='linear'))          \n",
    "model.add(Dropout(0.3))\n",
    "\n",
    "\n",
    "model.add(Dense(7, activation='softmax'))"
   ]
  },
  {
   "cell_type": "code",
   "execution_count": 21,
   "metadata": {},
   "outputs": [
    {
     "name": "stdout",
     "output_type": "stream",
     "text": [
      "Model: \"sequential_2\"\n",
      "_________________________________________________________________\n",
      " Layer (type)                Output Shape              Param #   \n",
      "=================================================================\n",
      " conv2d_3 (Conv2D)           (None, 222, 222, 32)      320       \n",
      "                                                                 \n",
      " max_pooling2d_3 (MaxPooling  (None, 111, 111, 32)     0         \n",
      " 2D)                                                             \n",
      "                                                                 \n",
      " dropout_8 (Dropout)         (None, 111, 111, 32)      0         \n",
      "                                                                 \n",
      " conv2d_4 (Conv2D)           (None, 109, 109, 64)      18496     \n",
      "                                                                 \n",
      " max_pooling2d_4 (MaxPooling  (None, 54, 54, 64)       0         \n",
      " 2D)                                                             \n",
      "                                                                 \n",
      " dropout_9 (Dropout)         (None, 54, 54, 64)        0         \n",
      "                                                                 \n",
      " conv2d_5 (Conv2D)           (None, 52, 52, 128)       73856     \n",
      "                                                                 \n",
      " max_pooling2d_5 (MaxPooling  (None, 26, 26, 128)      0         \n",
      " 2D)                                                             \n",
      "                                                                 \n",
      " dropout_10 (Dropout)        (None, 26, 26, 128)       0         \n",
      "                                                                 \n",
      " flatten_1 (Flatten)         (None, 86528)             0         \n",
      "                                                                 \n",
      " dense_5 (Dense)             (None, 2048)              177211392 \n",
      "                                                                 \n",
      " dropout_11 (Dropout)        (None, 2048)              0         \n",
      "                                                                 \n",
      " dense_6 (Dense)             (None, 1000)              2049000   \n",
      "                                                                 \n",
      " dropout_12 (Dropout)        (None, 1000)              0         \n",
      "                                                                 \n",
      " dense_7 (Dense)             (None, 250)               250250    \n",
      "                                                                 \n",
      " dropout_13 (Dropout)        (None, 250)               0         \n",
      "                                                                 \n",
      " dense_8 (Dense)             (None, 80)                20080     \n",
      "                                                                 \n",
      " dropout_14 (Dropout)        (None, 80)                0         \n",
      "                                                                 \n",
      " dense_9 (Dense)             (None, 15)                1215      \n",
      "                                                                 \n",
      " dropout_15 (Dropout)        (None, 15)                0         \n",
      "                                                                 \n",
      " dense_10 (Dense)            (None, 7)                 112       \n",
      "                                                                 \n",
      "=================================================================\n",
      "Total params: 179,624,721\n",
      "Trainable params: 179,624,721\n",
      "Non-trainable params: 0\n",
      "_________________________________________________________________\n"
     ]
    }
   ],
   "source": [
    "model.summary()"
   ]
  },
  {
   "cell_type": "code",
   "execution_count": 22,
   "metadata": {},
   "outputs": [],
   "source": [
    "from tensorflow import keras"
   ]
  },
  {
   "cell_type": "code",
   "execution_count": 23,
   "metadata": {},
   "outputs": [],
   "source": [
    "model.compile(loss = keras.losses.categorical_crossentropy, optimizer = keras.optimizers.Adam(),metrics=['accuracy'])"
   ]
  },
  {
   "cell_type": "code",
   "execution_count": null,
   "metadata": {},
   "outputs": [],
   "source": []
  },
  {
   "cell_type": "code",
   "execution_count": 24,
   "metadata": {},
   "outputs": [
    {
     "name": "stdout",
     "output_type": "stream",
     "text": [
      "Epoch 1/60\n",
      "26/26 [==============================] - 270s 10s/step - loss: 58.5749 - accuracy: 0.1638 - val_loss: 26.6082 - val_accuracy: 0.1570\n",
      "Epoch 2/60\n",
      "26/26 [==============================] - 239s 9s/step - loss: 4.8761 - accuracy: 0.1750 - val_loss: 9.8259 - val_accuracy: 0.1364\n",
      "Epoch 3/60\n",
      "26/26 [==============================] - 236s 9s/step - loss: 2.2342 - accuracy: 0.2370 - val_loss: 5.5354 - val_accuracy: 0.1271\n",
      "Epoch 4/60\n",
      "26/26 [==============================] - 243s 9s/step - loss: 2.0420 - accuracy: 0.2609 - val_loss: 5.9643 - val_accuracy: 0.1364\n",
      "Epoch 5/60\n",
      "26/26 [==============================] - 248s 10s/step - loss: 1.9350 - accuracy: 0.2947 - val_loss: 4.5017 - val_accuracy: 0.1477\n",
      "Epoch 6/60\n",
      "26/26 [==============================] - 233s 9s/step - loss: 1.9125 - accuracy: 0.3014 - val_loss: 2.1458 - val_accuracy: 0.3402\n",
      "Epoch 7/60\n",
      "26/26 [==============================] - 231s 9s/step - loss: 1.8968 - accuracy: 0.3126 - val_loss: 3.1877 - val_accuracy: 0.2187\n",
      "Epoch 8/60\n",
      "26/26 [==============================] - 257s 10s/step - loss: 1.8706 - accuracy: 0.3167 - val_loss: 2.8743 - val_accuracy: 0.2785\n",
      "Epoch 9/60\n",
      "26/26 [==============================] - 243s 9s/step - loss: 1.8386 - accuracy: 0.3354 - val_loss: 3.3460 - val_accuracy: 0.3140\n",
      "Epoch 10/60\n",
      "26/26 [==============================] - 273s 11s/step - loss: 1.8218 - accuracy: 0.3419 - val_loss: 2.8921 - val_accuracy: 0.3850\n",
      "Epoch 11/60\n",
      "26/26 [==============================] - 268s 10s/step - loss: 1.8109 - accuracy: 0.3512 - val_loss: 2.6735 - val_accuracy: 0.3757\n",
      "Epoch 12/60\n",
      "26/26 [==============================] - 282s 11s/step - loss: 1.7809 - accuracy: 0.3588 - val_loss: 3.6086 - val_accuracy: 0.3252\n",
      "Epoch 13/60\n",
      "26/26 [==============================] - 253s 10s/step - loss: 1.8288 - accuracy: 0.3489 - val_loss: 3.1950 - val_accuracy: 0.3047\n",
      "Epoch 14/60\n",
      "26/26 [==============================] - 238s 9s/step - loss: 1.8103 - accuracy: 0.3585 - val_loss: 4.4922 - val_accuracy: 0.2710\n",
      "Epoch 15/60\n",
      "26/26 [==============================] - 235s 9s/step - loss: 1.8054 - accuracy: 0.3624 - val_loss: 3.3809 - val_accuracy: 0.2710\n",
      "Epoch 16/60\n",
      "26/26 [==============================] - 239s 9s/step - loss: 1.7560 - accuracy: 0.3782 - val_loss: 2.5930 - val_accuracy: 0.2991\n",
      "Epoch 17/60\n",
      "26/26 [==============================] - 276s 11s/step - loss: 1.7500 - accuracy: 0.3871 - val_loss: 3.1265 - val_accuracy: 0.3364\n",
      "Epoch 18/60\n",
      "26/26 [==============================] - 254s 10s/step - loss: 1.7396 - accuracy: 0.3832 - val_loss: 2.6873 - val_accuracy: 0.3421\n",
      "Epoch 19/60\n",
      "26/26 [==============================] - 269s 10s/step - loss: 1.6546 - accuracy: 0.4117 - val_loss: 2.4425 - val_accuracy: 0.3794\n",
      "Epoch 20/60\n",
      "26/26 [==============================] - 243s 9s/step - loss: 1.6803 - accuracy: 0.3988 - val_loss: 2.8717 - val_accuracy: 0.3925\n",
      "Epoch 21/60\n",
      "26/26 [==============================] - 237s 9s/step - loss: 1.6843 - accuracy: 0.4097 - val_loss: 3.0449 - val_accuracy: 0.3776\n",
      "Epoch 22/60\n",
      "26/26 [==============================] - 232s 9s/step - loss: 1.6527 - accuracy: 0.4104 - val_loss: 3.2984 - val_accuracy: 0.3458\n",
      "Epoch 23/60\n",
      "26/26 [==============================] - 233s 9s/step - loss: 1.6149 - accuracy: 0.4232 - val_loss: 3.3208 - val_accuracy: 0.3028\n",
      "Epoch 24/60\n",
      "26/26 [==============================] - 233s 9s/step - loss: 1.6437 - accuracy: 0.4151 - val_loss: 3.0875 - val_accuracy: 0.3271\n",
      "Epoch 25/60\n",
      "26/26 [==============================] - 235s 9s/step - loss: 1.5770 - accuracy: 0.4250 - val_loss: 3.3600 - val_accuracy: 0.2897\n",
      "Epoch 26/60\n",
      "26/26 [==============================] - 248s 10s/step - loss: 1.5283 - accuracy: 0.4476 - val_loss: 3.9267 - val_accuracy: 0.2692\n",
      "Epoch 27/60\n",
      "26/26 [==============================] - 247s 9s/step - loss: 1.5114 - accuracy: 0.4626 - val_loss: 3.3884 - val_accuracy: 0.3252\n",
      "Epoch 28/60\n",
      "26/26 [==============================] - 240s 9s/step - loss: 1.4692 - accuracy: 0.4743 - val_loss: 2.8647 - val_accuracy: 0.3178\n",
      "Epoch 29/60\n",
      "26/26 [==============================] - 246s 9s/step - loss: 1.4559 - accuracy: 0.4764 - val_loss: 2.8717 - val_accuracy: 0.3327\n",
      "Epoch 30/60\n",
      "26/26 [==============================] - 282s 11s/step - loss: 1.4386 - accuracy: 0.4860 - val_loss: 3.0750 - val_accuracy: 0.3458\n",
      "Epoch 31/60\n",
      "26/26 [==============================] - 328s 13s/step - loss: 1.4047 - accuracy: 0.4997 - val_loss: 2.5192 - val_accuracy: 0.3664\n",
      "Epoch 32/60\n",
      "26/26 [==============================] - 326s 13s/step - loss: 1.3621 - accuracy: 0.5125 - val_loss: 2.3388 - val_accuracy: 0.3514\n",
      "Epoch 33/60\n",
      "26/26 [==============================] - 289s 11s/step - loss: 1.3599 - accuracy: 0.5197 - val_loss: 2.3788 - val_accuracy: 0.3607\n",
      "Epoch 34/60\n",
      "26/26 [==============================] - 282s 11s/step - loss: 1.3077 - accuracy: 0.5304 - val_loss: 2.2611 - val_accuracy: 0.3757\n",
      "Epoch 35/60\n",
      "26/26 [==============================] - 237s 9s/step - loss: 1.2831 - accuracy: 0.5273 - val_loss: 2.1396 - val_accuracy: 0.3720\n",
      "Epoch 36/60\n",
      "26/26 [==============================] - 248s 10s/step - loss: 1.2485 - accuracy: 0.5475 - val_loss: 1.8815 - val_accuracy: 0.3944\n",
      "Epoch 37/60\n",
      "26/26 [==============================] - 260s 10s/step - loss: 1.2213 - accuracy: 0.5626 - val_loss: 1.8494 - val_accuracy: 0.3720\n",
      "Epoch 38/60\n",
      "26/26 [==============================] - 259s 10s/step - loss: 1.1670 - accuracy: 0.5818 - val_loss: 2.0923 - val_accuracy: 0.3925\n",
      "Epoch 39/60\n",
      "26/26 [==============================] - 281s 11s/step - loss: 1.1320 - accuracy: 0.5854 - val_loss: 1.7647 - val_accuracy: 0.4037\n",
      "Epoch 40/60\n",
      "26/26 [==============================] - 252s 10s/step - loss: 1.0873 - accuracy: 0.6163 - val_loss: 1.8216 - val_accuracy: 0.3738\n",
      "Epoch 41/60\n",
      "26/26 [==============================] - 287s 11s/step - loss: 1.0257 - accuracy: 0.6298 - val_loss: 1.7824 - val_accuracy: 0.4224\n",
      "Epoch 42/60\n",
      "26/26 [==============================] - 259s 10s/step - loss: 0.9908 - accuracy: 0.6384 - val_loss: 1.9265 - val_accuracy: 0.3869\n",
      "Epoch 43/60\n",
      "26/26 [==============================] - 248s 10s/step - loss: 0.9348 - accuracy: 0.6612 - val_loss: 1.9790 - val_accuracy: 0.3813\n",
      "Epoch 44/60\n",
      "26/26 [==============================] - 269s 10s/step - loss: 0.8806 - accuracy: 0.6890 - val_loss: 2.0709 - val_accuracy: 0.4075\n",
      "Epoch 45/60\n",
      "26/26 [==============================] - 266s 10s/step - loss: 0.8575 - accuracy: 0.6867 - val_loss: 1.9022 - val_accuracy: 0.4262\n",
      "Epoch 46/60\n",
      "26/26 [==============================] - 279s 11s/step - loss: 0.8081 - accuracy: 0.7092 - val_loss: 2.0315 - val_accuracy: 0.4262\n",
      "Epoch 47/60\n",
      "26/26 [==============================] - 248s 9s/step - loss: 0.8004 - accuracy: 0.7144 - val_loss: 2.0112 - val_accuracy: 0.4299\n",
      "Epoch 48/60\n",
      "26/26 [==============================] - 236s 9s/step - loss: 0.7355 - accuracy: 0.7336 - val_loss: 2.0119 - val_accuracy: 0.4336\n",
      "Epoch 49/60\n",
      "26/26 [==============================] - 236s 9s/step - loss: 0.6772 - accuracy: 0.7495 - val_loss: 2.1008 - val_accuracy: 0.4262\n",
      "Epoch 50/60\n",
      "26/26 [==============================] - 236s 9s/step - loss: 0.6675 - accuracy: 0.7622 - val_loss: 2.1065 - val_accuracy: 0.4224\n",
      "Epoch 51/60\n",
      "26/26 [==============================] - 235s 9s/step - loss: 0.6198 - accuracy: 0.7825 - val_loss: 2.2714 - val_accuracy: 0.4449\n",
      "Epoch 52/60\n",
      "26/26 [==============================] - 233s 9s/step - loss: 0.6073 - accuracy: 0.7856 - val_loss: 2.2495 - val_accuracy: 0.4411\n",
      "Epoch 53/60\n",
      "26/26 [==============================] - 232s 9s/step - loss: 0.5780 - accuracy: 0.7996 - val_loss: 2.3339 - val_accuracy: 0.4280\n",
      "Epoch 54/60\n",
      "26/26 [==============================] - 231s 9s/step - loss: 0.5549 - accuracy: 0.8017 - val_loss: 2.2242 - val_accuracy: 0.4542\n",
      "Epoch 55/60\n",
      "26/26 [==============================] - 233s 9s/step - loss: 0.5369 - accuracy: 0.8159 - val_loss: 2.2597 - val_accuracy: 0.4374\n",
      "Epoch 56/60\n",
      "26/26 [==============================] - 20571s 822s/step - loss: 0.4945 - accuracy: 0.8227 - val_loss: 2.4211 - val_accuracy: 0.4430\n",
      "Epoch 57/60\n",
      "26/26 [==============================] - 240s 9s/step - loss: 0.4917 - accuracy: 0.8271 - val_loss: 2.3008 - val_accuracy: 0.4542\n",
      "Epoch 58/60\n",
      "26/26 [==============================] - 251s 10s/step - loss: 0.4775 - accuracy: 0.8354 - val_loss: 2.4317 - val_accuracy: 0.4617\n",
      "Epoch 59/60\n",
      "26/26 [==============================] - 265s 10s/step - loss: 0.4570 - accuracy: 0.8442 - val_loss: 2.5247 - val_accuracy: 0.4523\n",
      "Epoch 60/60\n",
      "26/26 [==============================] - 263s 10s/step - loss: 0.4578 - accuracy: 0.8463 - val_loss: 2.5131 - val_accuracy: 0.4486\n"
     ]
    }
   ],
   "source": [
    "train_dropout = model.fit(train_X, train_Y, batch_size = 150, epochs = 60, verbose = 1, validation_data = (test_X, test_Y))"
   ]
  },
  {
   "cell_type": "code",
   "execution_count": null,
   "metadata": {},
   "outputs": [],
   "source": []
  },
  {
   "cell_type": "code",
   "execution_count": 25,
   "metadata": {},
   "outputs": [],
   "source": [
    "model.save(\"CNN_Emotion_model.h5\")"
   ]
  },
  {
   "cell_type": "code",
   "execution_count": null,
   "metadata": {},
   "outputs": [],
   "source": []
  },
  {
   "cell_type": "code",
   "execution_count": 26,
   "metadata": {},
   "outputs": [
    {
     "name": "stdout",
     "output_type": "stream",
     "text": [
      "17/17 [==============================] - 8s 458ms/step - loss: 2.5131 - accuracy: 0.4486\n"
     ]
    }
   ],
   "source": [
    "test_eval = model.evaluate(test_X, test_Y, verbose=1)"
   ]
  },
  {
   "cell_type": "code",
   "execution_count": 27,
   "metadata": {},
   "outputs": [
    {
     "name": "stdout",
     "output_type": "stream",
     "text": [
      "Test loss: 2.5131125450134277\n",
      "Test accuracy: 0.44859811663627625\n"
     ]
    }
   ],
   "source": [
    "print('Test loss:', test_eval[0])\n",
    "print('Test accuracy:', test_eval[1])"
   ]
  },
  {
   "cell_type": "code",
   "execution_count": 30,
   "metadata": {
    "scrolled": true
   },
   "outputs": [
    {
     "data": {
      "image/png": "[encoded data removed]",
      "text/plain": [
       "<Figure size 432x288 with 1 Axes>"
      ]
     },
     "metadata": {
      "needs_background": "light"
     },
     "output_type": "display_data"
    },
    {
     "data": {
      "image/png": "[encoded data removed]",
      "text/plain": [
       "<Figure size 432x288 with 1 Axes>"
      ]
     },
     "metadata": {
      "needs_background": "light"
     },
     "output_type": "display_data"
    }
   ],
   "source": [
    "accuracy = train_dropout.history['accuracy']\n",
    "val_accuracy = train_dropout.history['val_accuracy']\n",
    "loss = train_dropout.history['loss']\n",
    "val_loss = train_dropout.history['val_loss']\n",
    "epochs = range(len(accuracy))\n",
    "plt.plot(epochs, accuracy, 'bo', label='Training accuracy')\n",
    "plt.plot(epochs, val_accuracy, 'b', label='Validation accuracy')\n",
    "plt.title('Training and validation accuracy')\n",
    "plt.legend()\n",
    "plt.figure()\n",
    "plt.plot(epochs, loss, 'bo', label='Training loss')\n",
    "plt.plot(epochs, val_loss, 'b', label='Validation loss')\n",
    "plt.title('Training and validation loss')\n",
    "plt.legend()\n",
    "plt.show()"
   ]
  },
  {
   "cell_type": "code",
   "execution_count": null,
   "metadata": {},
   "outputs": [],
   "source": []
  },
  {
   "cell_type": "code",
   "execution_count": 31,
   "metadata": {},
   "outputs": [],
   "source": [
    "predicted_classes = model.predict(test_X)"
   ]
  },
  {
   "cell_type": "code",
   "execution_count": 32,
   "metadata": {},
   "outputs": [],
   "source": [
    "predicted_classes = np.argmax(np.round(predicted_classes),axis=1)"
   ]
  },
  {
   "cell_type": "code",
   "execution_count": 33,
   "metadata": {},
   "outputs": [],
   "source": [
    "test_Y_Pre = np.argmax(np.round(test_Y),axis=1)"
   ]
  },
  {
   "cell_type": "code",
   "execution_count": 34,
   "metadata": {},
   "outputs": [
    {
     "data": {
      "text/plain": [
       "((535,), (535,))"
      ]
     },
     "execution_count": 34,
     "metadata": {},
     "output_type": "execute_result"
    }
   ],
   "source": [
    "predicted_classes.shape, test_Y_Pre.shape"
   ]
  },
  {
   "cell_type": "code",
   "execution_count": 36,
   "metadata": {
    "scrolled": true
   },
   "outputs": [
    {
     "name": "stdout",
     "output_type": "stream",
     "text": [
      "Found 238 correct labels\n"
     ]
    },
    {
     "data": {
      "image/png": "[encoded data removed]",
      "text/plain": [
       "<Figure size 432x288 with 9 Axes>"
      ]
     },
     "metadata": {
      "needs_background": "light"
     },
     "output_type": "display_data"
    }
   ],
   "source": [
    "correct = np.where(predicted_classes==test_Y_Pre)[0]\n",
    "print (\"Found %d correct labels\" % len(correct))\n",
    "for i, correct in enumerate(correct[:9]):\n",
    "    plt.subplot(3,3,i+1)\n",
    "    plt.imshow(test_X[correct].reshape(dim[0],dim[1]), cmap='gray', interpolation='none')\n",
    "    plt.title(\"Predicted {}, Class {} \".format(predicted_classes[correct], test_Y[correct]))"
   ]
  },
  {
   "cell_type": "code",
   "execution_count": 38,
   "metadata": {},
   "outputs": [
    {
     "name": "stdout",
     "output_type": "stream",
     "text": [
      "Found 297 incorrect labels\n"
     ]
    },
    {
     "data": {
      "image/png": "[encoded data removed]",
      "text/plain": [
       "<Figure size 432x288 with 9 Axes>"
      ]
     },
     "metadata": {
      "needs_background": "light"
     },
     "output_type": "display_data"
    }
   ],
   "source": [
    "incorrect = np.where(predicted_classes!=test_Y_Pre)[0]\n",
    "print (\"Found %d incorrect labels\" % len(incorrect))\n",
    "for i, incorrect in enumerate(incorrect[:9]):\n",
    "    plt.subplot(3,3,i+1)\n",
    "    plt.imshow(test_X[incorrect].reshape(dim[0],dim[1]), cmap='gray', interpolation='none')\n",
    "    plt.title(\"Predicted {}, Class {}\".format(predicted_classes[incorrect], test_Y[incorrect]))"
   ]
  },
  {
   "cell_type": "code",
   "execution_count": 40,
   "metadata": {},
   "outputs": [
    {
     "name": "stdout",
     "output_type": "stream",
     "text": [
      "              precision    recall  f1-score   support\n",
      "\n",
      "     Class 0       0.28      0.62      0.39        82\n",
      "     Class 1       0.13      0.05      0.07        40\n",
      "     Class 2       0.41      0.21      0.28        58\n",
      "     Class 3       0.58      0.76      0.66       141\n",
      "     Class 4       0.33      0.11      0.16        57\n",
      "     Class 5       0.57      0.29      0.38        73\n",
      "     Class 6       0.53      0.46      0.50        84\n",
      "\n",
      "    accuracy                           0.44       535\n",
      "   macro avg       0.41      0.36      0.35       535\n",
      "weighted avg       0.45      0.44      0.42       535\n",
      "\n"
     ]
    }
   ],
   "source": [
    "from sklearn.metrics import classification_report\n",
    "target_names = [\"Class {}\".format(i) for i in range(7)]\n",
    "print(classification_report(test_Y_Pre, predicted_classes, target_names=target_names))\n",
    " "
   ]
  },
  {
   "cell_type": "markdown",
   "metadata": {},
   "source": [
    "# Pre - Processing"
   ]
  },
  {
   "cell_type": "code",
   "execution_count": 1,
   "metadata": {},
   "outputs": [],
   "source": [
    "from tensorflow.keras.layers import Input, Lambda, Dense, Flatten,Dropout,Conv2D,MaxPooling2D,AveragePooling2D\n",
    "from tensorflow.keras.models import Model\n",
    "from tensorflow.keras.preprocessing import image\n",
    "from sklearn.metrics import accuracy_score,classification_report,confusion_matrix\n",
    "from tensorflow.keras.preprocessing.image import ImageDataGenerator\n",
    "from sklearn.model_selection import train_test_split\n",
    "from tensorflow.keras.models import Sequential\n",
    "import numpy as np\n",
    "import pandas as pd\n",
    "import os\n",
    "import cv2\n",
    "import matplotlib.pyplot as plt"
   ]
  },
  {
   "cell_type": "code",
   "execution_count": 2,
   "metadata": {},
   "outputs": [],
   "source": [
    "# re-size all the images to this\n",
    "\n",
    "IMAGE_SIZE = (224, 224)\n",
    "path = \"Emotion Dataset/\"\n",
    "data = []\n",
    "c = 0\n",
    "for folder in os.listdir(path):\n",
    "    sub_path = path + \"/\" + folder\n",
    "    \n",
    "    for img in os.listdir(sub_path):\n",
    "        image_path = sub_path + \"/\" + img        \n",
    "        img_arr = cv2.imread(image_path)\n",
    "        try:\n",
    "          img_arr = cv2.resize(img_arr,IMAGE_SIZE)\n",
    "          data.append(img_arr)\n",
    "        except:\n",
    "          c+=1\n",
    "          continue"
   ]
  },
  {
   "cell_type": "code",
   "execution_count": 3,
   "metadata": {},
   "outputs": [
    {
     "data": {
      "text/plain": [
       "(5350, 224, 224, 3)"
      ]
     },
     "execution_count": 3,
     "metadata": {},
     "output_type": "execute_result"
    }
   ],
   "source": [
    "np.shape(data)"
   ]
  },
  {
   "cell_type": "code",
   "execution_count": 10,
   "metadata": {},
   "outputs": [
    {
     "data": {
      "text/plain": [
       "array([[[[118, 118, 118],\n",
       "         [118, 118, 118],\n",
       "         [118, 118, 118],\n",
       "         ...,\n",
       "         [168, 168, 168],\n",
       "         [168, 168, 168],\n",
       "         [168, 168, 168]],\n",
       "\n",
       "        [[118, 118, 118],\n",
       "         [118, 118, 118],\n",
       "         [118, 118, 118],\n",
       "         ...,\n",
       "         [168, 168, 168],\n",
       "         [168, 168, 168],\n",
       "         [168, 168, 168]],\n",
       "\n",
       "        [[144, 144, 144],\n",
       "         [144, 144, 144],\n",
       "         [144, 144, 144],\n",
       "         ...,\n",
       "         [182, 182, 182],\n",
       "         [182, 182, 182],\n",
       "         [182, 182, 182]],\n",
       "\n",
       "        ...,\n",
       "\n",
       "        [[  3,   3,   3],\n",
       "         [  3,   3,   3],\n",
       "         [  3,   3,   3],\n",
       "         ...,\n",
       "         [ 13,  13,  13],\n",
       "         [ 13,  13,  13],\n",
       "         [ 13,  13,  13]],\n",
       "\n",
       "        [[  5,   5,   5],\n",
       "         [  5,   5,   5],\n",
       "         [  5,   5,   5],\n",
       "         ...,\n",
       "         [ 20,  20,  20],\n",
       "         [ 20,  20,  20],\n",
       "         [ 20,  20,  20]],\n",
       "\n",
       "        [[  5,   5,   5],\n",
       "         [  5,   5,   5],\n",
       "         [  5,   5,   5],\n",
       "         ...,\n",
       "         [ 20,  20,  20],\n",
       "         [ 20,  20,  20],\n",
       "         [ 20,  20,  20]]],\n",
       "\n",
       "\n",
       "       [[[ 13,  13,  13],\n",
       "         [ 12,  12,  12],\n",
       "         [ 16,  16,  16],\n",
       "         ...,\n",
       "         [ 32,  32,  32],\n",
       "         [ 42,  42,  42],\n",
       "         [ 54,  54,  54]],\n",
       "\n",
       "        [[ 11,  11,  11],\n",
       "         [ 10,  10,  10],\n",
       "         [ 13,  13,  13],\n",
       "         ...,\n",
       "         [ 41,  41,  41],\n",
       "         [ 36,  36,  36],\n",
       "         [ 45,  45,  45]],\n",
       "\n",
       "        [[ 11,  11,  11],\n",
       "         [ 12,  12,  12],\n",
       "         [  7,   7,   7],\n",
       "         ...,\n",
       "         [ 33,  33,  33],\n",
       "         [ 29,  29,  29],\n",
       "         [ 30,  30,  30]],\n",
       "\n",
       "        ...,\n",
       "\n",
       "        [[ 27,  27,  27],\n",
       "         [ 30,  30,  30],\n",
       "         [ 34,  34,  34],\n",
       "         ...,\n",
       "         [ 80,  80,  80],\n",
       "         [ 73,  73,  73],\n",
       "         [ 63,  63,  63]],\n",
       "\n",
       "        [[ 23,  23,  23],\n",
       "         [ 29,  29,  29],\n",
       "         [ 33,  33,  33],\n",
       "         ...,\n",
       "         [ 74,  74,  74],\n",
       "         [ 67,  67,  67],\n",
       "         [ 57,  57,  57]],\n",
       "\n",
       "        [[ 21,  21,  21],\n",
       "         [ 26,  26,  26],\n",
       "         [ 27,  27,  27],\n",
       "         ...,\n",
       "         [ 69,  69,  69],\n",
       "         [ 66,  66,  66],\n",
       "         [ 55,  55,  55]]],\n",
       "\n",
       "\n",
       "       [[[185, 185, 185],\n",
       "         [185, 185, 185],\n",
       "         [185, 185, 185],\n",
       "         ...,\n",
       "         [ 59,  59,  59],\n",
       "         [143, 143, 143],\n",
       "         [ 55,  55,  55]],\n",
       "\n",
       "        [[185, 185, 185],\n",
       "         [185, 185, 185],\n",
       "         [182, 182, 182],\n",
       "         ...,\n",
       "         [ 12,  12,  12],\n",
       "         [ 72,  72,  72],\n",
       "         [135, 135, 135]],\n",
       "\n",
       "        [[183, 183, 183],\n",
       "         [165, 165, 165],\n",
       "         [170, 170, 170],\n",
       "         ...,\n",
       "         [ 25,  25,  25],\n",
       "         [  4,   4,   4],\n",
       "         [138, 138, 138]],\n",
       "\n",
       "        ...,\n",
       "\n",
       "        [[118, 118, 118],\n",
       "         [117, 117, 117],\n",
       "         [121, 121, 121],\n",
       "         ...,\n",
       "         [187, 187, 187],\n",
       "         [188, 188, 188],\n",
       "         [189, 189, 189]],\n",
       "\n",
       "        [[120, 120, 120],\n",
       "         [120, 120, 120],\n",
       "         [118, 118, 118],\n",
       "         ...,\n",
       "         [188, 188, 188],\n",
       "         [189, 189, 189],\n",
       "         [190, 190, 190]],\n",
       "\n",
       "        [[119, 119, 119],\n",
       "         [119, 119, 119],\n",
       "         [120, 120, 120],\n",
       "         ...,\n",
       "         [189, 189, 189],\n",
       "         [188, 188, 188],\n",
       "         [189, 189, 189]]],\n",
       "\n",
       "\n",
       "       ...,\n",
       "\n",
       "\n",
       "       [[[139, 139, 139],\n",
       "         [139, 139, 139],\n",
       "         [139, 139, 139],\n",
       "         ...,\n",
       "         [217, 217, 217],\n",
       "         [217, 217, 217],\n",
       "         [217, 217, 217]],\n",
       "\n",
       "        [[139, 139, 139],\n",
       "         [139, 139, 139],\n",
       "         [139, 139, 139],\n",
       "         ...,\n",
       "         [217, 217, 217],\n",
       "         [217, 217, 217],\n",
       "         [217, 217, 217]],\n",
       "\n",
       "        [[139, 139, 139],\n",
       "         [139, 139, 139],\n",
       "         [139, 139, 139],\n",
       "         ...,\n",
       "         [217, 217, 217],\n",
       "         [217, 217, 217],\n",
       "         [217, 217, 217]],\n",
       "\n",
       "        ...,\n",
       "\n",
       "        [[232, 232, 232],\n",
       "         [232, 232, 232],\n",
       "         [232, 232, 232],\n",
       "         ...,\n",
       "         [229, 229, 229],\n",
       "         [229, 229, 229],\n",
       "         [229, 229, 229]],\n",
       "\n",
       "        [[232, 232, 232],\n",
       "         [232, 232, 232],\n",
       "         [232, 232, 232],\n",
       "         ...,\n",
       "         [229, 229, 229],\n",
       "         [229, 229, 229],\n",
       "         [229, 229, 229]],\n",
       "\n",
       "        [[232, 232, 232],\n",
       "         [232, 232, 232],\n",
       "         [232, 232, 232],\n",
       "         ...,\n",
       "         [229, 229, 229],\n",
       "         [229, 229, 229],\n",
       "         [229, 229, 229]]],\n",
       "\n",
       "\n",
       "       [[[ 87,  87,  87],\n",
       "         [ 87,  87,  87],\n",
       "         [ 87,  87,  87],\n",
       "         ...,\n",
       "         [ 66,  66,  66],\n",
       "         [ 66,  66,  66],\n",
       "         [ 66,  66,  66]],\n",
       "\n",
       "        [[ 87,  87,  87],\n",
       "         [ 87,  87,  87],\n",
       "         [ 87,  87,  87],\n",
       "         ...,\n",
       "         [ 66,  66,  66],\n",
       "         [ 66,  66,  66],\n",
       "         [ 66,  66,  66]],\n",
       "\n",
       "        [[ 87,  87,  87],\n",
       "         [ 87,  87,  87],\n",
       "         [ 87,  87,  87],\n",
       "         ...,\n",
       "         [ 66,  66,  66],\n",
       "         [ 66,  66,  66],\n",
       "         [ 66,  66,  66]],\n",
       "\n",
       "        ...,\n",
       "\n",
       "        [[124, 124, 124],\n",
       "         [124, 124, 124],\n",
       "         [124, 124, 124],\n",
       "         ...,\n",
       "         [ 70,  70,  70],\n",
       "         [ 70,  70,  70],\n",
       "         [ 70,  70,  70]],\n",
       "\n",
       "        [[124, 124, 124],\n",
       "         [124, 124, 124],\n",
       "         [124, 124, 124],\n",
       "         ...,\n",
       "         [ 70,  70,  70],\n",
       "         [ 70,  70,  70],\n",
       "         [ 70,  70,  70]],\n",
       "\n",
       "        [[124, 124, 124],\n",
       "         [124, 124, 124],\n",
       "         [124, 124, 124],\n",
       "         ...,\n",
       "         [ 70,  70,  70],\n",
       "         [ 70,  70,  70],\n",
       "         [ 70,  70,  70]]],\n",
       "\n",
       "\n",
       "       [[[109, 109, 109],\n",
       "         [109, 109, 109],\n",
       "         [109, 109, 109],\n",
       "         ...,\n",
       "         [120, 120, 120],\n",
       "         [120, 120, 120],\n",
       "         [120, 120, 120]],\n",
       "\n",
       "        [[109, 109, 109],\n",
       "         [109, 109, 109],\n",
       "         [109, 109, 109],\n",
       "         ...,\n",
       "         [120, 120, 120],\n",
       "         [120, 120, 120],\n",
       "         [120, 120, 120]],\n",
       "\n",
       "        [[109, 109, 109],\n",
       "         [109, 109, 109],\n",
       "         [109, 109, 109],\n",
       "         ...,\n",
       "         [120, 120, 120],\n",
       "         [120, 120, 120],\n",
       "         [120, 120, 120]],\n",
       "\n",
       "        ...,\n",
       "\n",
       "        [[ 80,  80,  80],\n",
       "         [ 80,  80,  80],\n",
       "         [ 80,  80,  80],\n",
       "         ...,\n",
       "         [ 81,  81,  81],\n",
       "         [ 81,  81,  81],\n",
       "         [ 81,  81,  81]],\n",
       "\n",
       "        [[ 80,  80,  80],\n",
       "         [ 80,  80,  80],\n",
       "         [ 80,  80,  80],\n",
       "         ...,\n",
       "         [ 81,  81,  81],\n",
       "         [ 81,  81,  81],\n",
       "         [ 81,  81,  81]],\n",
       "\n",
       "        [[ 80,  80,  80],\n",
       "         [ 80,  80,  80],\n",
       "         [ 80,  80,  80],\n",
       "         ...,\n",
       "         [ 81,  81,  81],\n",
       "         [ 81,  81,  81],\n",
       "         [ 81,  81,  81]]]], dtype=uint8)"
      ]
     },
     "execution_count": 10,
     "metadata": {},
     "output_type": "execute_result"
    }
   ],
   "source": [
    "x = np.array(data)\n",
    "\n",
    "x"
   ]
  },
  {
   "cell_type": "code",
   "execution_count": 11,
   "metadata": {},
   "outputs": [
    {
     "name": "stdout",
     "output_type": "stream",
     "text": [
      "Found 5350 images belonging to 7 classes.\n"
     ]
    }
   ],
   "source": [
    "datagen = ImageDataGenerator(rescale = 1./255)\n",
    "dataset = datagen.flow_from_directory(path,\n",
    "                                      target_size = IMAGE_SIZE,\n",
    "                                      batch_size = 32,\n",
    "                                      class_mode = 'sparse')"
   ]
  },
  {
   "cell_type": "code",
   "execution_count": 12,
   "metadata": {},
   "outputs": [
    {
     "data": {
      "text/plain": [
       "(5350,)"
      ]
     },
     "execution_count": 12,
     "metadata": {},
     "output_type": "execute_result"
    }
   ],
   "source": [
    "y = dataset.classes\n",
    "y.shape"
   ]
  },
  {
   "cell_type": "code",
   "execution_count": 13,
   "metadata": {},
   "outputs": [],
   "source": [
    "x_train,x_test,y_train,y_test = train_test_split(x,y,test_size = 0.2)"
   ]
  },
  {
   "cell_type": "code",
   "execution_count": 14,
   "metadata": {},
   "outputs": [
    {
     "name": "stdout",
     "output_type": "stream",
     "text": [
      "(4280, 224, 224, 3) (4280,)\n",
      "(1070, 224, 224, 3) (1070,)\n"
     ]
    }
   ],
   "source": [
    "print(x_train.shape,y_train.shape)\n",
    "print(x_test.shape,y_test.shape)"
   ]
  },
  {
   "cell_type": "markdown",
   "metadata": {},
   "source": [
    "# VGG - 16"
   ]
  },
  {
   "cell_type": "code",
   "execution_count": 15,
   "metadata": {},
   "outputs": [],
   "source": [
    "from tensorflow.keras.applications.vgg16 import VGG16\n",
    "from tensorflow.keras.applications.vgg16 import preprocess_input"
   ]
  },
  {
   "cell_type": "code",
   "execution_count": 16,
   "metadata": {},
   "outputs": [],
   "source": [
    "base_model = VGG16(weights = \"imagenet\", include_top = False, input_shape = x_train[0].shape)\n",
    "base_model.trainable = False ## Not trainable weights"
   ]
  },
  {
   "cell_type": "code",
   "execution_count": 17,
   "metadata": {},
   "outputs": [],
   "source": [
    "## Preprocessing input\n",
    "\n",
    "train_ds = preprocess_input(x_train) \n",
    "test_ds = preprocess_input(x_test)"
   ]
  },
  {
   "cell_type": "code",
   "execution_count": 18,
   "metadata": {},
   "outputs": [
    {
     "name": "stdout",
     "output_type": "stream",
     "text": [
      "Model: \"vgg16\"\n",
      "_________________________________________________________________\n",
      " Layer (type)                Output Shape              Param #   \n",
      "=================================================================\n",
      " input_1 (InputLayer)        [(None, 224, 224, 3)]     0         \n",
      "                                                                 \n",
      " block1_conv1 (Conv2D)       (None, 224, 224, 64)      1792      \n",
      "                                                                 \n",
      " block1_conv2 (Conv2D)       (None, 224, 224, 64)      36928     \n",
      "                                                                 \n",
      " block1_pool (MaxPooling2D)  (None, 112, 112, 64)      0         \n",
      "                                                                 \n",
      " block2_conv1 (Conv2D)       (None, 112, 112, 128)     73856     \n",
      "                                                                 \n",
      " block2_conv2 (Conv2D)       (None, 112, 112, 128)     147584    \n",
      "                                                                 \n",
      " block2_pool (MaxPooling2D)  (None, 56, 56, 128)       0         \n",
      "                                                                 \n",
      " block3_conv1 (Conv2D)       (None, 56, 56, 256)       295168    \n",
      "                                                                 \n",
      " block3_conv2 (Conv2D)       (None, 56, 56, 256)       590080    \n",
      "                                                                 \n",
      " block3_conv3 (Conv2D)       (None, 56, 56, 256)       590080    \n",
      "                                                                 \n",
      " block3_pool (MaxPooling2D)  (None, 28, 28, 256)       0         \n",
      "                                                                 \n",
      " block4_conv1 (Conv2D)       (None, 28, 28, 512)       1180160   \n",
      "                                                                 \n",
      " block4_conv2 (Conv2D)       (None, 28, 28, 512)       2359808   \n",
      "                                                                 \n",
      " block4_conv3 (Conv2D)       (None, 28, 28, 512)       2359808   \n",
      "                                                                 \n",
      " block4_pool (MaxPooling2D)  (None, 14, 14, 512)       0         \n",
      "                                                                 \n",
      " block5_conv1 (Conv2D)       (None, 14, 14, 512)       2359808   \n",
      "                                                                 \n",
      " block5_conv2 (Conv2D)       (None, 14, 14, 512)       2359808   \n",
      "                                                                 \n",
      " block5_conv3 (Conv2D)       (None, 14, 14, 512)       2359808   \n",
      "                                                                 \n",
      " block5_pool (MaxPooling2D)  (None, 7, 7, 512)         0         \n",
      "                                                                 \n",
      "=================================================================\n",
      "Total params: 14,714,688\n",
      "Trainable params: 0\n",
      "Non-trainable params: 14,714,688\n",
      "_________________________________________________________________\n"
     ]
    }
   ],
   "source": [
    "base_model.summary()"
   ]
  },
  {
   "cell_type": "code",
   "execution_count": 19,
   "metadata": {},
   "outputs": [],
   "source": [
    "from tensorflow.keras import layers, models\n",
    "\n",
    "flatten_layer = layers.Flatten()\n",
    "dense_layer_1 = layers.Dense(50, activation='relu')\n",
    "dense_layer_2 = layers.Dense(20, activation='relu')\n",
    "prediction_layer = layers.Dense(7, activation='softmax')\n",
    "\n",
    "\n",
    "model = models.Sequential([\n",
    "    base_model,\n",
    "    flatten_layer,+\n",
    "    dense_layer_1,\n",
    "    dense_layer_2,\n",
    "    prediction_layer\n",
    "])"
   ]
  },
  {
   "cell_type": "code",
   "execution_count": null,
   "metadata": {},
   "outputs": [
    {
     "name": "stdout",
     "output_type": "stream",
     "text": [
      "Epoch 1/10\n",
      "107/107 [==============================] - 840s 8s/step - loss: 2.4901 - accuracy: 0.2950 - val_loss: 1.8758 - val_accuracy: 0.3259\n",
      "Epoch 2/10\n",
      "107/107 [==============================] - 951s 9s/step - loss: 1.7045 - accuracy: 0.4109 - val_loss: 1.8042 - val_accuracy: 0.3692\n",
      "Epoch 3/10\n",
      "107/107 [==============================] - 1131s 11s/step - loss: 1.3224 - accuracy: 0.5044 - val_loss: 1.6950 - val_accuracy: 0.4054\n",
      "Epoch 4/10\n",
      "107/107 [==============================] - 1085s 10s/step - loss: 1.1273 - accuracy: 0.5555 - val_loss: 1.7058 - val_accuracy: 0.4100\n",
      "Epoch 5/10\n",
      "107/107 [==============================] - 1147s 11s/step - loss: 0.9689 - accuracy: 0.6040 - val_loss: 1.6420 - val_accuracy: 0.4393\n",
      "Epoch 6/10\n",
      "107/107 [==============================] - 981s 9s/step - loss: 0.8379 - accuracy: 0.6694 - val_loss: 1.6831 - val_accuracy: 0.4206\n",
      "Epoch 7/10\n"
     ]
    }
   ],
   "source": [
    "from tensorflow.keras.callbacks import EarlyStopping\n",
    "\n",
    "model.compile(\n",
    "    optimizer='adam',\n",
    "    loss='sparse_categorical_crossentropy',\n",
    "    metrics=['accuracy'],\n",
    ")\n",
    "\n",
    "\n",
    "es = EarlyStopping(monitor = 'val_accuracy', mode = 'max', patience = 5,  restore_best_weights = True)\n",
    "\n",
    "model.fit(train_ds, y_train, epochs = 10, validation_split = 0.2, batch_size = 32, callbacks = [es])"
   ]
  },
  {
   "cell_type": "code",
   "execution_count": null,
   "metadata": {},
   "outputs": [],
   "source": []
  }
 ],
 "metadata": {
  "colab": {
   "name": "CNN with Keras.ipynb",
   "provenance": [],
   "version": "0.3.2"
  },
  "kernelspec": {
   "display_name": "Python 3 (ipykernel)",
   "language": "python",
   "name": "python3"
  },
  "language_info": {
   "codemirror_mode": {
    "name": "ipython",
    "version": 3
   },
   "file_extension": ".py",
   "mimetype": "text/x-python",
   "name": "python",
   "nbconvert_exporter": "python",
   "pygments_lexer": "ipython3",
   "version": "3.7.9"
  }
 },
 "nbformat": 4,
 "nbformat_minor": 1
}
