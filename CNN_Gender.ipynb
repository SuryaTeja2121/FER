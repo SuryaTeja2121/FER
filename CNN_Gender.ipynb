{
 "cells": [
  {
   "cell_type": "code",
   "execution_count": 1,
   "metadata": {
    "colab": {},
    "colab_type": "code",
    "id": "eeRyej25Eo0p"
   },
   "outputs": [],
   "source": [
    "from tensorflow.keras.layers import Input, Lambda, Dense, Flatten,Dropout,Conv2D,MaxPooling2D,AveragePooling2D\n",
    "from tensorflow.keras.models import Model\n",
    "from tensorflow.keras.preprocessing import image\n",
    "from sklearn.metrics import accuracy_score,classification_report,confusion_matrix\n",
    "from tensorflow.keras.preprocessing.image import ImageDataGenerator\n",
    "from sklearn.model_selection import train_test_split\n",
    "from tensorflow.keras.models import Sequential\n",
    "import numpy as np\n",
    "import pandas as pd\n",
    "import os\n",
    "import cv2\n",
    "import matplotlib.pyplot as plt"
   ]
  },
  {
   "cell_type": "code",
   "execution_count": 2,
   "metadata": {
    "colab": {
     "base_uri": "https://localhost:8080/",
     "height": 52
    },
    "colab_type": "code",
    "id": "hzIeyNDyEo2H",
    "outputId": "ad8b84da-82bd-42e3-e5a4-f81935df51d2"
   },
   "outputs": [],
   "source": [
    "# dim = [224, 224]"
   ]
  },
  {
   "cell_type": "code",
   "execution_count": 3,
   "metadata": {
    "colab": {
     "base_uri": "https://localhost:8080/",
     "height": 34
    },
    "colab_type": "code",
    "id": "5ZudJjrREo-o",
    "outputId": "74766ba1-2a64-4124-badd-ef580c8e8a13"
   },
   "outputs": [],
   "source": [
    "# re-size all the images to this\n",
    "\n",
    "IMAGE_SIZE = (224, 224)\n",
    "path = \"Gender Dataset/train/\"\n",
    "data = []\n",
    "c = 0\n",
    "for folder in os.listdir(path):\n",
    "    sub_path = path + \"/\" + folder\n",
    "    \n",
    "    for img in os.listdir(sub_path):\n",
    "        image_path = sub_path + \"/\" + img        \n",
    "        img_arr = cv2.imread(image_path)\n",
    "        try:\n",
    "          img_arr = cv2.resize(img_arr,IMAGE_SIZE)\n",
    "          data.append(img_arr)\n",
    "        except:\n",
    "          c+=1\n",
    "          continue"
   ]
  },
  {
   "cell_type": "code",
   "execution_count": 4,
   "metadata": {},
   "outputs": [
    {
     "data": {
      "text/plain": [
       "(1600, 224, 224, 3)"
      ]
     },
     "execution_count": 4,
     "metadata": {},
     "output_type": "execute_result"
    }
   ],
   "source": [
    "np.shape(data)"
   ]
  },
  {
   "cell_type": "code",
   "execution_count": 5,
   "metadata": {},
   "outputs": [
    {
     "data": {
      "text/plain": [
       "array([[[[ 70,  61,  64],\n",
       "         [ 71,  62,  65],\n",
       "         [ 72,  63,  66],\n",
       "         ...,\n",
       "         [ 19,  22,  26],\n",
       "         [ 18,  23,  26],\n",
       "         [ 18,  23,  26]],\n",
       "\n",
       "        [[ 66,  58,  61],\n",
       "         [ 67,  59,  62],\n",
       "         [ 68,  61,  64],\n",
       "         ...,\n",
       "         [ 19,  22,  26],\n",
       "         [ 19,  23,  27],\n",
       "         [ 19,  24,  27]],\n",
       "\n",
       "        [[ 63,  56,  58],\n",
       "         [ 64,  57,  59],\n",
       "         [ 65,  59,  61],\n",
       "         ...,\n",
       "         [ 19,  22,  27],\n",
       "         [ 19,  23,  27],\n",
       "         [ 20,  23,  28]],\n",
       "\n",
       "        ...,\n",
       "\n",
       "        [[  9,   7,   9],\n",
       "         [  9,   7,   9],\n",
       "         [  9,   7,  10],\n",
       "         ...,\n",
       "         [ 27,  21,  16],\n",
       "         [ 27,  21,  16],\n",
       "         [ 27,  21,  16]],\n",
       "\n",
       "        [[  9,   6,   8],\n",
       "         [  9,   6,   8],\n",
       "         [ 10,   7,   9],\n",
       "         ...,\n",
       "         [ 26,  20,  15],\n",
       "         [ 27,  21,  15],\n",
       "         [ 27,  21,  16]],\n",
       "\n",
       "        [[  9,   6,   8],\n",
       "         [  9,   6,   8],\n",
       "         [ 10,   7,   9],\n",
       "         ...,\n",
       "         [ 26,  20,  15],\n",
       "         [ 27,  21,  16],\n",
       "         [ 27,  21,  16]]],\n",
       "\n",
       "\n",
       "       [[[247, 247, 247],\n",
       "         [248, 248, 248],\n",
       "         [248, 248, 248],\n",
       "         ...,\n",
       "         [113, 113, 113],\n",
       "         [108, 108, 108],\n",
       "         [105, 105, 105]],\n",
       "\n",
       "        [[248, 248, 248],\n",
       "         [249, 249, 249],\n",
       "         [248, 248, 248],\n",
       "         ...,\n",
       "         [117, 117, 117],\n",
       "         [114, 114, 114],\n",
       "         [111, 111, 111]],\n",
       "\n",
       "        [[248, 248, 248],\n",
       "         [248, 248, 248],\n",
       "         [248, 248, 248],\n",
       "         ...,\n",
       "         [122, 122, 122],\n",
       "         [121, 121, 121],\n",
       "         [120, 120, 120]],\n",
       "\n",
       "        ...,\n",
       "\n",
       "        [[248, 248, 248],\n",
       "         [248, 248, 248],\n",
       "         [248, 248, 248],\n",
       "         ...,\n",
       "         [ 33,  33,  33],\n",
       "         [ 34,  34,  34],\n",
       "         [ 35,  35,  35]],\n",
       "\n",
       "        [[248, 248, 248],\n",
       "         [248, 248, 248],\n",
       "         [248, 248, 248],\n",
       "         ...,\n",
       "         [ 33,  33,  33],\n",
       "         [ 35,  35,  35],\n",
       "         [ 36,  36,  36]],\n",
       "\n",
       "        [[248, 248, 248],\n",
       "         [248, 248, 248],\n",
       "         [248, 248, 248],\n",
       "         ...,\n",
       "         [ 32,  32,  32],\n",
       "         [ 34,  34,  34],\n",
       "         [ 36,  36,  36]]],\n",
       "\n",
       "\n",
       "       [[[153, 153, 153],\n",
       "         [153, 153, 153],\n",
       "         [163, 163, 163],\n",
       "         ...,\n",
       "         [ 23,  23,  23],\n",
       "         [ 20,  20,  20],\n",
       "         [ 20,  20,  20]],\n",
       "\n",
       "        [[163, 163, 163],\n",
       "         [163, 163, 163],\n",
       "         [169, 169, 169],\n",
       "         ...,\n",
       "         [ 25,  25,  25],\n",
       "         [ 22,  22,  22],\n",
       "         [ 22,  22,  22]],\n",
       "\n",
       "        [[187, 187, 187],\n",
       "         [187, 187, 187],\n",
       "         [185, 185, 185],\n",
       "         ...,\n",
       "         [ 28,  28,  28],\n",
       "         [ 26,  26,  26],\n",
       "         [ 26,  26,  26]],\n",
       "\n",
       "        ...,\n",
       "\n",
       "        [[ 33,  33,  33],\n",
       "         [ 33,  33,  33],\n",
       "         [ 33,  33,  33],\n",
       "         ...,\n",
       "         [ 18,  18,  18],\n",
       "         [ 16,  16,  16],\n",
       "         [ 16,  16,  16]],\n",
       "\n",
       "        [[ 39,  39,  39],\n",
       "         [ 39,  39,  39],\n",
       "         [ 41,  41,  41],\n",
       "         ...,\n",
       "         [ 20,  20,  20],\n",
       "         [ 19,  19,  19],\n",
       "         [ 19,  19,  19]],\n",
       "\n",
       "        [[ 42,  42,  42],\n",
       "         [ 42,  42,  42],\n",
       "         [ 44,  44,  44],\n",
       "         ...,\n",
       "         [ 20,  20,  20],\n",
       "         [ 21,  21,  21],\n",
       "         [ 21,  21,  21]]],\n",
       "\n",
       "\n",
       "       ...,\n",
       "\n",
       "\n",
       "       [[[ 48,  60,  88],\n",
       "         [ 16,  28,  56],\n",
       "         [ 15,  27,  54],\n",
       "         ...,\n",
       "         [226, 219, 240],\n",
       "         [224, 217, 238],\n",
       "         [221, 214, 235]],\n",
       "\n",
       "        [[ 32,  43,  73],\n",
       "         [  8,  20,  49],\n",
       "         [ 28,  40,  68],\n",
       "         ...,\n",
       "         [218, 211, 232],\n",
       "         [223, 216, 236],\n",
       "         [224, 217, 238]],\n",
       "\n",
       "        [[ 35,  47,  76],\n",
       "         [ 34,  45,  75],\n",
       "         [ 55,  67,  95],\n",
       "         ...,\n",
       "         [214, 207, 228],\n",
       "         [222, 215, 236],\n",
       "         [227, 220, 241]],\n",
       "\n",
       "        ...,\n",
       "\n",
       "        [[  6,  11,  12],\n",
       "         [  6,  11,  12],\n",
       "         [  6,  11,  12],\n",
       "         ...,\n",
       "         [ 58,  83, 145],\n",
       "         [ 57,  82, 144],\n",
       "         [ 57,  82, 144]],\n",
       "\n",
       "        [[  6,  11,  12],\n",
       "         [  6,  11,  12],\n",
       "         [  6,  11,  12],\n",
       "         ...,\n",
       "         [ 56,  82, 142],\n",
       "         [ 55,  81, 141],\n",
       "         [ 55,  81, 140]],\n",
       "\n",
       "        [[  6,  11,  12],\n",
       "         [  6,  11,  12],\n",
       "         [  6,  11,  12],\n",
       "         ...,\n",
       "         [ 55,  81, 140],\n",
       "         [ 53,  79, 139],\n",
       "         [ 53,  79, 139]]],\n",
       "\n",
       "\n",
       "       [[[ 45,  41,  52],\n",
       "         [ 45,  44,  53],\n",
       "         [ 25,  25,  35],\n",
       "         ...,\n",
       "         [ 72,  67,  93],\n",
       "         [ 58,  58,  87],\n",
       "         [ 46,  50,  79]],\n",
       "\n",
       "        [[ 84,  85,  96],\n",
       "         [ 29,  30,  40],\n",
       "         [ 16,  17,  27],\n",
       "         ...,\n",
       "         [ 54,  53,  68],\n",
       "         [ 52,  56,  74],\n",
       "         [ 57,  61,  87]],\n",
       "\n",
       "        [[ 33,  34,  48],\n",
       "         [ 16,  18,  29],\n",
       "         [  5,   6,  15],\n",
       "         ...,\n",
       "         [ 90,  91, 101],\n",
       "         [ 42,  45,  60],\n",
       "         [ 52,  54,  78]],\n",
       "\n",
       "        ...,\n",
       "\n",
       "        [[  5,   5,  10],\n",
       "         [  3,   3,   9],\n",
       "         [  2,   2,   8],\n",
       "         ...,\n",
       "         [ 11,  10,  14],\n",
       "         [ 17,  16,  20],\n",
       "         [  6,   6,   9]],\n",
       "\n",
       "        [[  2,   2,   8],\n",
       "         [  0,   0,   6],\n",
       "         [  0,   0,   6],\n",
       "         ...,\n",
       "         [ 16,  15,  19],\n",
       "         [  9,   8,  12],\n",
       "         [  2,   2,   6]],\n",
       "\n",
       "        [[  3,   3,   9],\n",
       "         [  1,   1,   7],\n",
       "         [  1,   1,   7],\n",
       "         ...,\n",
       "         [  5,   6,  10],\n",
       "         [  0,   1,   5],\n",
       "         [  4,   5,   9]]],\n",
       "\n",
       "\n",
       "       [[[ 32,  31,  33],\n",
       "         [ 32,  31,  33],\n",
       "         [ 33,  32,  34],\n",
       "         ...,\n",
       "         [ 82,  80,  79],\n",
       "         [131, 129, 128],\n",
       "         [192, 190, 189]],\n",
       "\n",
       "        [[ 32,  31,  33],\n",
       "         [ 31,  30,  32],\n",
       "         [ 31,  30,  32],\n",
       "         ...,\n",
       "         [ 84,  82,  81],\n",
       "         [127, 125, 124],\n",
       "         [191, 189, 188]],\n",
       "\n",
       "        [[ 30,  30,  30],\n",
       "         [ 30,  30,  30],\n",
       "         [ 29,  29,  29],\n",
       "         ...,\n",
       "         [ 81,  79,  78],\n",
       "         [116, 114, 113],\n",
       "         [178, 176, 175]],\n",
       "\n",
       "        ...,\n",
       "\n",
       "        [[ 50,  43,  57],\n",
       "         [ 80,  73,  87],\n",
       "         [ 98,  92, 104],\n",
       "         ...,\n",
       "         [190, 181, 178],\n",
       "         [190, 181, 178],\n",
       "         [192, 183, 180]],\n",
       "\n",
       "        [[ 49,  42,  57],\n",
       "         [ 66,  59,  73],\n",
       "         [ 80,  74,  87],\n",
       "         ...,\n",
       "         [194, 185, 182],\n",
       "         [194, 185, 182],\n",
       "         [197, 188, 184]],\n",
       "\n",
       "        [[ 51,  46,  61],\n",
       "         [ 55,  51,  64],\n",
       "         [ 69,  65,  77],\n",
       "         ...,\n",
       "         [193, 184, 181],\n",
       "         [194, 185, 182],\n",
       "         [195, 186, 183]]]], dtype=uint8)"
      ]
     },
     "execution_count": 5,
     "metadata": {},
     "output_type": "execute_result"
    }
   ],
   "source": [
    "x = np.array(data)\n",
    "\n",
    "x"
   ]
  },
  {
   "cell_type": "code",
   "execution_count": 6,
   "metadata": {},
   "outputs": [
    {
     "name": "stdout",
     "output_type": "stream",
     "text": [
      "Found 1600 images belonging to 2 classes.\n"
     ]
    }
   ],
   "source": [
    "datagen = ImageDataGenerator(rescale = 1./255)\n",
    "dataset = datagen.flow_from_directory(path,\n",
    "                                      target_size = IMAGE_SIZE,\n",
    "                                      batch_size = 32,\n",
    "                                      class_mode = 'sparse')"
   ]
  },
  {
   "cell_type": "code",
   "execution_count": 7,
   "metadata": {},
   "outputs": [
    {
     "data": {
      "text/plain": [
       "(1600,)"
      ]
     },
     "execution_count": 7,
     "metadata": {},
     "output_type": "execute_result"
    }
   ],
   "source": [
    "y = dataset.classes\n",
    "y.shape"
   ]
  },
  {
   "cell_type": "code",
   "execution_count": 8,
   "metadata": {},
   "outputs": [],
   "source": [
    "x_train,x_test,y_train,y_test = train_test_split(x,y,test_size = 0.2)"
   ]
  },
  {
   "cell_type": "code",
   "execution_count": 10,
   "metadata": {},
   "outputs": [
    {
     "name": "stdout",
     "output_type": "stream",
     "text": [
      "(1280, 224, 224, 3) (1280,)\n",
      "(320, 224, 224, 3) (320,)\n"
     ]
    }
   ],
   "source": [
    "print(x_train.shape,y_train.shape)\n",
    "print(x_test.shape,y_test.shape)"
   ]
  },
  {
   "cell_type": "code",
   "execution_count": 10,
   "metadata": {},
   "outputs": [],
   "source": [
    "model = Sequential()"
   ]
  },
  {
   "cell_type": "code",
   "execution_count": 11,
   "metadata": {},
   "outputs": [],
   "source": [
    "from tensorflow.keras.layers import BatchNormalization\n",
    "#covolution layer\n",
    "model.add(Conv2D(10,(3,3), activation = 'relu', input_shape = (224,224,3)))\n",
    "#pooling layer\n",
    "model.add(MaxPooling2D(2,2))\n",
    "model.add(BatchNormalization())"
   ]
  },
  {
   "cell_type": "code",
   "execution_count": 12,
   "metadata": {},
   "outputs": [],
   "source": [
    "#covolution layer\n",
    "model.add(Conv2D(10,(3,3),activation = 'relu'))\n",
    "#pooling layer\n",
    "model.add(MaxPooling2D(2,2))\n",
    "model.add(BatchNormalization())"
   ]
  },
  {
   "cell_type": "code",
   "execution_count": 13,
   "metadata": {},
   "outputs": [],
   "source": [
    "#covolution layer\n",
    "model.add(Conv2D(10,(3,3),activation = 'relu'))\n",
    "#pooling layer\n",
    "model.add(MaxPooling2D(2,2))\n",
    "model.add(BatchNormalization())"
   ]
  },
  {
   "cell_type": "code",
   "execution_count": 14,
   "metadata": {},
   "outputs": [],
   "source": [
    "#covolution layer\n",
    "model.add(Conv2D(10,(3,3),activation = 'relu'))\n",
    "#pooling layer\n",
    "model.add(MaxPooling2D(2,2))\n",
    "model.add(BatchNormalization())"
   ]
  },
  {
   "cell_type": "code",
   "execution_count": 15,
   "metadata": {},
   "outputs": [],
   "source": [
    "#covolution layer\n",
    "model.add(Conv2D(10,(3,3),activation = 'relu'))\n",
    "#pooling layer\n",
    "model.add(MaxPooling2D(2,2))\n",
    "model.add(BatchNormalization())"
   ]
  },
  {
   "cell_type": "code",
   "execution_count": 16,
   "metadata": {},
   "outputs": [
    {
     "name": "stdout",
     "output_type": "stream",
     "text": [
      "Model: \"sequential\"\n",
      "_________________________________________________________________\n",
      " Layer (type)                Output Shape              Param #   \n",
      "=================================================================\n",
      " conv2d (Conv2D)             (None, 222, 222, 10)      280       \n",
      "                                                                 \n",
      " max_pooling2d (MaxPooling2D  (None, 111, 111, 10)     0         \n",
      " )                                                               \n",
      "                                                                 \n",
      " batch_normalization (BatchN  (None, 111, 111, 10)     40        \n",
      " ormalization)                                                   \n",
      "                                                                 \n",
      " conv2d_1 (Conv2D)           (None, 109, 109, 10)      910       \n",
      "                                                                 \n",
      " max_pooling2d_1 (MaxPooling  (None, 54, 54, 10)       0         \n",
      " 2D)                                                             \n",
      "                                                                 \n",
      " batch_normalization_1 (Batc  (None, 54, 54, 10)       40        \n",
      " hNormalization)                                                 \n",
      "                                                                 \n",
      " conv2d_2 (Conv2D)           (None, 52, 52, 10)        910       \n",
      "                                                                 \n",
      " max_pooling2d_2 (MaxPooling  (None, 26, 26, 10)       0         \n",
      " 2D)                                                             \n",
      "                                                                 \n",
      " batch_normalization_2 (Batc  (None, 26, 26, 10)       40        \n",
      " hNormalization)                                                 \n",
      "                                                                 \n",
      " conv2d_3 (Conv2D)           (None, 24, 24, 10)        910       \n",
      "                                                                 \n",
      " max_pooling2d_3 (MaxPooling  (None, 12, 12, 10)       0         \n",
      " 2D)                                                             \n",
      "                                                                 \n",
      " batch_normalization_3 (Batc  (None, 12, 12, 10)       40        \n",
      " hNormalization)                                                 \n",
      "                                                                 \n",
      " conv2d_4 (Conv2D)           (None, 10, 10, 10)        910       \n",
      "                                                                 \n",
      " max_pooling2d_4 (MaxPooling  (None, 5, 5, 10)         0         \n",
      " 2D)                                                             \n",
      "                                                                 \n",
      " batch_normalization_4 (Batc  (None, 5, 5, 10)         40        \n",
      " hNormalization)                                                 \n",
      "                                                                 \n",
      " flatten (Flatten)           (None, 250)               0         \n",
      "                                                                 \n",
      " dense (Dense)               (None, 2)                 502       \n",
      "                                                                 \n",
      "=================================================================\n",
      "Total params: 4,622\n",
      "Trainable params: 4,522\n",
      "Non-trainable params: 100\n",
      "_________________________________________________________________\n"
     ]
    }
   ],
   "source": [
    "model.add(Flatten())\n",
    "#o/p layer\n",
    "model.add(Dense(2,activation='sigmoid'))\n",
    "model.summary()"
   ]
  },
  {
   "cell_type": "code",
   "execution_count": 17,
   "metadata": {},
   "outputs": [],
   "source": [
    "#compile model:\n",
    "model.compile(optimizer='adam',loss = 'sparse_categorical_crossentropy', metrics=['accuracy'])"
   ]
  },
  {
   "cell_type": "code",
   "execution_count": 18,
   "metadata": {},
   "outputs": [
    {
     "name": "stdout",
     "output_type": "stream",
     "text": [
      "Epoch 1/10\n",
      "40/40 [==============================] - 20s 496ms/step - loss: 0.6912 - accuracy: 0.6625 - val_loss: 0.7258 - val_accuracy: 0.5875\n",
      "Epoch 2/10\n",
      "40/40 [==============================] - 21s 516ms/step - loss: 0.4721 - accuracy: 0.7789 - val_loss: 0.6415 - val_accuracy: 0.6406\n",
      "Epoch 3/10\n",
      "40/40 [==============================] - 21s 529ms/step - loss: 0.3583 - accuracy: 0.8438 - val_loss: 0.5133 - val_accuracy: 0.7625\n",
      "Epoch 4/10\n",
      "40/40 [==============================] - 21s 532ms/step - loss: 0.2813 - accuracy: 0.8922 - val_loss: 0.4243 - val_accuracy: 0.8250\n",
      "Epoch 5/10\n",
      "40/40 [==============================] - 21s 538ms/step - loss: 0.2248 - accuracy: 0.9234 - val_loss: 0.3664 - val_accuracy: 0.8562\n",
      "Epoch 6/10\n",
      "40/40 [==============================] - 21s 536ms/step - loss: 0.1820 - accuracy: 0.9406 - val_loss: 0.3583 - val_accuracy: 0.8531\n",
      "Epoch 7/10\n",
      "40/40 [==============================] - 22s 542ms/step - loss: 0.1587 - accuracy: 0.9492 - val_loss: 0.3352 - val_accuracy: 0.8469\n",
      "Epoch 8/10\n",
      "40/40 [==============================] - 23s 580ms/step - loss: 0.1286 - accuracy: 0.9531 - val_loss: 0.2829 - val_accuracy: 0.8875\n",
      "Epoch 9/10\n",
      "40/40 [==============================] - 22s 547ms/step - loss: 0.1131 - accuracy: 0.9656 - val_loss: 0.6365 - val_accuracy: 0.7125\n",
      "Epoch 10/10\n",
      "40/40 [==============================] - 21s 533ms/step - loss: 0.0953 - accuracy: 0.9758 - val_loss: 0.2340 - val_accuracy: 0.9000\n"
     ]
    }
   ],
   "source": [
    "from tensorflow.keras.callbacks import EarlyStopping\n",
    "\n",
    "#Early stopping to avoid overfitting of model\n",
    "early_stop = EarlyStopping(monitor='val_loss', mode='min', verbose=1, patience=5)\n",
    "\n",
    "history=model.fit(x_train,y_train, validation_data=(x_test,y_test), epochs = 10, callbacks=[early_stop], shuffle = True)"
   ]
  },
  {
   "cell_type": "code",
   "execution_count": null,
   "metadata": {},
   "outputs": [],
   "source": []
  },
  {
   "cell_type": "markdown",
   "metadata": {},
   "source": [
    "# VGG"
   ]
  },
  {
   "cell_type": "code",
   "execution_count": 11,
   "metadata": {},
   "outputs": [],
   "source": [
    "from tensorflow.keras.applications.vgg16 import VGG16\n",
    "from tensorflow.keras.applications.vgg16 import preprocess_input"
   ]
  },
  {
   "cell_type": "code",
   "execution_count": 12,
   "metadata": {},
   "outputs": [],
   "source": [
    "base_model = VGG16(weights = \"imagenet\", include_top = False, input_shape = x_train[0].shape)\n",
    "base_model.trainable = False ## Not trainable weights"
   ]
  },
  {
   "cell_type": "code",
   "execution_count": 13,
   "metadata": {},
   "outputs": [],
   "source": [
    "## Preprocessing input\n",
    "\n",
    "train_ds = preprocess_input(x_train) \n",
    "test_ds = preprocess_input(x_test)"
   ]
  },
  {
   "cell_type": "code",
   "execution_count": 14,
   "metadata": {},
   "outputs": [
    {
     "name": "stdout",
     "output_type": "stream",
     "text": [
      "Model: \"vgg16\"\n",
      "_________________________________________________________________\n",
      " Layer (type)                Output Shape              Param #   \n",
      "=================================================================\n",
      " input_1 (InputLayer)        [(None, 224, 224, 3)]     0         \n",
      "                                                                 \n",
      " block1_conv1 (Conv2D)       (None, 224, 224, 64)      1792      \n",
      "                                                                 \n",
      " block1_conv2 (Conv2D)       (None, 224, 224, 64)      36928     \n",
      "                                                                 \n",
      " block1_pool (MaxPooling2D)  (None, 112, 112, 64)      0         \n",
      "                                                                 \n",
      " block2_conv1 (Conv2D)       (None, 112, 112, 128)     73856     \n",
      "                                                                 \n",
      " block2_conv2 (Conv2D)       (None, 112, 112, 128)     147584    \n",
      "                                                                 \n",
      " block2_pool (MaxPooling2D)  (None, 56, 56, 128)       0         \n",
      "                                                                 \n",
      " block3_conv1 (Conv2D)       (None, 56, 56, 256)       295168    \n",
      "                                                                 \n",
      " block3_conv2 (Conv2D)       (None, 56, 56, 256)       590080    \n",
      "                                                                 \n",
      " block3_conv3 (Conv2D)       (None, 56, 56, 256)       590080    \n",
      "                                                                 \n",
      " block3_pool (MaxPooling2D)  (None, 28, 28, 256)       0         \n",
      "                                                                 \n",
      " block4_conv1 (Conv2D)       (None, 28, 28, 512)       1180160   \n",
      "                                                                 \n",
      " block4_conv2 (Conv2D)       (None, 28, 28, 512)       2359808   \n",
      "                                                                 \n",
      " block4_conv3 (Conv2D)       (None, 28, 28, 512)       2359808   \n",
      "                                                                 \n",
      " block4_pool (MaxPooling2D)  (None, 14, 14, 512)       0         \n",
      "                                                                 \n",
      " block5_conv1 (Conv2D)       (None, 14, 14, 512)       2359808   \n",
      "                                                                 \n",
      " block5_conv2 (Conv2D)       (None, 14, 14, 512)       2359808   \n",
      "                                                                 \n",
      " block5_conv3 (Conv2D)       (None, 14, 14, 512)       2359808   \n",
      "                                                                 \n",
      " block5_pool (MaxPooling2D)  (None, 7, 7, 512)         0         \n",
      "                                                                 \n",
      "=================================================================\n",
      "Total params: 14,714,688\n",
      "Trainable params: 0\n",
      "Non-trainable params: 14,714,688\n",
      "_________________________________________________________________\n"
     ]
    }
   ],
   "source": [
    "base_model.summary()"
   ]
  },
  {
   "cell_type": "code",
   "execution_count": 15,
   "metadata": {},
   "outputs": [],
   "source": [
    "from tensorflow.keras import layers, models\n",
    "\n",
    "flatten_layer = layers.Flatten()\n",
    "dense_layer_1 = layers.Dense(50, activation='relu')\n",
    "dense_layer_2 = layers.Dense(20, activation='relu')\n",
    "prediction_layer = layers.Dense(2, activation='sigmoid')\n",
    "\n",
    "\n",
    "model = models.Sequential([\n",
    "    base_model,\n",
    "    flatten_layer,\n",
    "    dense_layer_1,\n",
    "    dense_layer_2,\n",
    "    prediction_layer\n",
    "])"
   ]
  },
  {
   "cell_type": "code",
   "execution_count": 16,
   "metadata": {},
   "outputs": [
    {
     "name": "stdout",
     "output_type": "stream",
     "text": [
      "Epoch 1/2\n",
      "32/32 [==============================] - 302s 10s/step - loss: 1.1773 - accuracy: 0.8730 - val_loss: 0.2368 - val_accuracy: 0.9688\n",
      "Epoch 2/2\n",
      "32/32 [==============================] - 307s 10s/step - loss: 0.0722 - accuracy: 0.9824 - val_loss: 0.2614 - val_accuracy: 0.9531\n"
     ]
    },
    {
     "data": {
      "text/plain": [
       "<keras.callbacks.History at 0x1991ce79188>"
      ]
     },
     "execution_count": 16,
     "metadata": {},
     "output_type": "execute_result"
    }
   ],
   "source": [
    "from tensorflow.keras.callbacks import EarlyStopping\n",
    "\n",
    "model.compile(\n",
    "    optimizer='adam',\n",
    "    loss='sparse_categorical_crossentropy',\n",
    "    metrics=['accuracy'],\n",
    ")\n",
    "\n",
    "\n",
    "es = EarlyStopping(monitor = 'val_accuracy', mode = 'max', patience = 5,  restore_best_weights = True)\n",
    "\n",
    "model.fit(train_ds, y_train, epochs = 2, validation_split = 0.2, batch_size = 32, callbacks = [es])"
   ]
  },
  {
   "cell_type": "code",
   "execution_count": 18,
   "metadata": {},
   "outputs": [],
   "source": [
    "model.save('CNN_Gender_Latest.h5')"
   ]
  },
  {
   "cell_type": "code",
   "execution_count": 19,
   "metadata": {},
   "outputs": [
    {
     "name": "stdout",
     "output_type": "stream",
     "text": [
      "Writing CNN_Gender_Latest.py\n"
     ]
    }
   ],
   "source": [
    "%%writefile CNN_Gender_Latest.py\n",
    "import streamlit as st\n",
    "import tensorflow as tf\n",
    "\n",
    "from tensorflow.keras.preprocessing import image\n",
    "from tensorflow.keras.applications.vgg16 import preprocess_input,decode_predictions\n",
    "\n",
    "import numpy as np\n",
    "from PIL import Image # Strreamlit works with PIL library very easily for Images\n",
    "import cv2\n",
    "\n",
    "model_path = 'CNN_Gender_Latest.h5'\n",
    "\n",
    "st.title(\"Gender Detection\")\n",
    "upload = st.file_uploader('Upload an Image')\n",
    "\n",
    "if upload is not None:\n",
    "  file_bytes = np.asarray(bytearray(upload.read()), dtype=np.uint8)\n",
    "  opencv_image = cv2.imdecode(file_bytes, 1)\n",
    "  opencv_image = cv2.cvtColor(opencv_image,cv2.COLOR_BGR2RGB) # Color from BGR to RGB\n",
    "  img = Image.open(upload)\n",
    "  st.image(img,caption='Uploaded Image',width=300)\n",
    "  if(st.button('Predict')):\n",
    "    model = tf.keras.models.load_model(model_path)\n",
    "    x = cv2.resize(opencv_image,(224,224))\n",
    "#     x = np.expand_dims(x,axis=0)    \n",
    "    x = preprocess_input(x)\n",
    "\n",
    "    result = []\n",
    "    result.append(x)\n",
    "    result = np.array(result)\n",
    "    \n",
    "    featu = model.predict(result)\n",
    "    lst = list(featu[0])\n",
    "    \n",
    "    if (lst.index(max(lst))) == 0:\n",
    "        st.title('Male')\n",
    "    else:\n",
    "        st.title('Female')"
   ]
  },
  {
   "cell_type": "code",
   "execution_count": null,
   "metadata": {},
   "outputs": [],
   "source": []
  }
 ],
 "metadata": {
  "colab": {
   "name": "CNN with Keras.ipynb",
   "provenance": [],
   "version": "0.3.2"
  },
  "kernelspec": {
   "display_name": "Python 3 (ipykernel)",
   "language": "python",
   "name": "python3"
  },
  "language_info": {
   "codemirror_mode": {
    "name": "ipython",
    "version": 3
   },
   "file_extension": ".py",
   "mimetype": "text/x-python",
   "name": "python",
   "nbconvert_exporter": "python",
   "pygments_lexer": "ipython3",
   "version": "3.7.9"
  }
 },
 "nbformat": 4,
 "nbformat_minor": 1
}
